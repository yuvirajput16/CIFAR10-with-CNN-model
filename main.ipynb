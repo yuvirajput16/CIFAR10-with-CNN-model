{
 "cells": [
  {
   "cell_type": "code",
   "execution_count": 14,
   "metadata": {},
   "outputs": [],
   "source": [
    "import warnings\n",
    "warnings.filterwarnings(\"ignore\")\n",
    "import numpy as np\n",
    "import tensorflow as tf\n",
    "from tensorflow.keras import datasets, layers, models\n",
    "import matplotlib.pyplot as plt\n",
    "import pandas as pd"
   ]
  },
  {
   "cell_type": "code",
   "execution_count": 4,
   "metadata": {},
   "outputs": [
    {
     "name": "stdout",
     "output_type": "stream",
     "text": [
      "Downloading data from https://www.cs.toronto.edu/~kriz/cifar-10-python.tar.gz\n",
      "170498071/170498071 [==============================] - 298s 2us/step\n"
     ]
    }
   ],
   "source": [
    "(X_train,y_train), (X_test, y_test) = datasets.cifar10.load_data()"
   ]
  },
  {
   "cell_type": "code",
   "execution_count": 5,
   "metadata": {},
   "outputs": [
    {
     "data": {
      "text/plain": [
       "(50000, 32, 32, 3)"
      ]
     },
     "execution_count": 5,
     "metadata": {},
     "output_type": "execute_result"
    }
   ],
   "source": [
    "X_train.shape"
   ]
  },
  {
   "cell_type": "code",
   "execution_count": 6,
   "metadata": {},
   "outputs": [
    {
     "data": {
      "text/plain": [
       "(10000, 32, 32, 3)"
      ]
     },
     "execution_count": 6,
     "metadata": {},
     "output_type": "execute_result"
    }
   ],
   "source": [
    "X_test.shape"
   ]
  },
  {
   "cell_type": "code",
   "execution_count": 13,
   "metadata": {},
   "outputs": [
    {
     "data": {
      "text/plain": [
       "(50000, 1)"
      ]
     },
     "execution_count": 13,
     "metadata": {},
     "output_type": "execute_result"
    }
   ],
   "source": [
    "y_train.shape"
   ]
  },
  {
   "cell_type": "code",
   "execution_count": 24,
   "metadata": {},
   "outputs": [
    {
     "data": {
      "text/plain": [
       "0\n",
       "6    5000\n",
       "9    5000\n",
       "4    5000\n",
       "1    5000\n",
       "2    5000\n",
       "7    5000\n",
       "8    5000\n",
       "3    5000\n",
       "5    5000\n",
       "0    5000\n",
       "Name: count, dtype: int64"
      ]
     },
     "execution_count": 24,
     "metadata": {},
     "output_type": "execute_result"
    }
   ],
   "source": [
    "pd.DataFrame(y_train)[0].value_counts()"
   ]
  },
  {
   "cell_type": "code",
   "execution_count": 26,
   "metadata": {},
   "outputs": [],
   "source": [
    "# taken from the source site of the data\n",
    "classes = [\"airplane\", \"automobile\", \"bird\", \"cat\", \"deer\", \"dog\", \"frog\", \"horse\", \"ship\", \"truck\"]"
   ]
  },
  {
   "cell_type": "code",
   "execution_count": 36,
   "metadata": {},
   "outputs": [
    {
     "data": {
      "text/plain": [
       "array([[6],\n",
       "       [9],\n",
       "       [9],\n",
       "       ...,\n",
       "       [9],\n",
       "       [1],\n",
       "       [1]], dtype=uint8)"
      ]
     },
     "execution_count": 36,
     "metadata": {},
     "output_type": "execute_result"
    }
   ],
   "source": [
    "y_train"
   ]
  },
  {
   "cell_type": "code",
   "execution_count": 35,
   "metadata": {},
   "outputs": [],
   "source": [
    "def show_sample(X, y, index):\n",
    "    plt.figure(figsize = (15,2))\n",
    "    plt.imshow(X[index])\n",
    "    plt.xlabel(classes[int(y[index])])"
   ]
  },
  {
   "cell_type": "code",
   "execution_count": 39,
   "metadata": {},
   "outputs": [],
   "source": [
    "# normalizing the values\n",
    "X_train = X_train / 255\n",
    "X_test = X_test / 255"
   ]
  },
  {
   "cell_type": "markdown",
   "metadata": {},
   "source": [
    "### Building an ANN"
   ]
  },
  {
   "cell_type": "code",
   "execution_count": 40,
   "metadata": {},
   "outputs": [],
   "source": [
    "from tensorflow.keras import Sequential"
   ]
  },
  {
   "cell_type": "code",
   "execution_count": 41,
   "metadata": {},
   "outputs": [
    {
     "name": "stdout",
     "output_type": "stream",
     "text": [
      "Epoch 1/5\n",
      "1563/1563 [==============================] - 45s 29ms/step - loss: 1.8116 - accuracy: 0.3530\n",
      "Epoch 2/5\n",
      "1563/1563 [==============================] - 43s 28ms/step - loss: 1.6231 - accuracy: 0.4257\n",
      "Epoch 3/5\n",
      "1563/1563 [==============================] - 45s 29ms/step - loss: 1.5431 - accuracy: 0.4551\n",
      "Epoch 4/5\n",
      "1563/1563 [==============================] - 44s 28ms/step - loss: 1.4811 - accuracy: 0.4774\n",
      "Epoch 5/5\n",
      "1563/1563 [==============================] - 46s 29ms/step - loss: 1.4307 - accuracy: 0.4973\n"
     ]
    },
    {
     "data": {
      "text/plain": [
       "<keras.src.callbacks.History at 0x7ca580d5f730>"
      ]
     },
     "execution_count": 41,
     "metadata": {},
     "output_type": "execute_result"
    }
   ],
   "source": [
    "ann = Sequential([\n",
    "    layers.Flatten(),\n",
    "    layers.Dense(3000, activation='relu'),\n",
    "    layers.Dense(1000, activation='relu'),\n",
    "    layers.Dense(10, activation='sigmoid')\n",
    "])\n",
    "\n",
    "ann.compile(optimizer='SGD',\n",
    "            loss= 'sparse_categorical_crossentropy',\n",
    "            metrics=['accuracy'])\n",
    "\n",
    "ann.fit(X_train,y_train, epochs=5)            "
   ]
  },
  {
   "cell_type": "code",
   "execution_count": 42,
   "metadata": {},
   "outputs": [
    {
     "name": "stdout",
     "output_type": "stream",
     "text": [
      "313/313 [==============================] - 2s 7ms/step\n"
     ]
    }
   ],
   "source": [
    "y_pred = ann.predict(X_test)\n",
    "y_pred_final = [np.argmax(element) for element in y_pred]\n",
    "y_pred_final = [[y] for y in y_pred_final]"
   ]
  },
  {
   "cell_type": "code",
   "execution_count": 48,
   "metadata": {},
   "outputs": [
    {
     "name": "stdout",
     "output_type": "stream",
     "text": [
      "Classification Report: \n",
      "               precision    recall  f1-score   support\n",
      "\n",
      "           0       0.73      0.24      0.36      1000\n",
      "           1       0.64      0.57      0.60      1000\n",
      "           2       0.35      0.42      0.38      1000\n",
      "           3       0.37      0.23      0.28      1000\n",
      "           4       0.42      0.43      0.42      1000\n",
      "           5       0.37      0.42      0.39      1000\n",
      "           6       0.55      0.49      0.52      1000\n",
      "           7       0.73      0.36      0.48      1000\n",
      "           8       0.43      0.79      0.56      1000\n",
      "           9       0.42      0.67      0.52      1000\n",
      "\n",
      "    accuracy                           0.46     10000\n",
      "   macro avg       0.50      0.46      0.45     10000\n",
      "weighted avg       0.50      0.46      0.45     10000\n",
      "\n"
     ]
    }
   ],
   "source": [
    "from sklearn.metrics import confusion_matrix, classification_report\n",
    "\n",
    "print(\"Classification Report: \\n\", classification_report(y_test,y_pred_final))"
   ]
  },
  {
   "cell_type": "markdown",
   "metadata": {},
   "source": [
    "### Building a CNN"
   ]
  },
  {
   "cell_type": "code",
   "execution_count": 49,
   "metadata": {},
   "outputs": [
    {
     "name": "stdout",
     "output_type": "stream",
     "text": [
      "Epoch 1/10\n",
      "1563/1563 [==============================] - 32s 20ms/step - loss: 1.4958 - accuracy: 0.4639\n",
      "Epoch 2/10\n",
      "1563/1563 [==============================] - 29s 19ms/step - loss: 1.1298 - accuracy: 0.6039\n",
      "Epoch 3/10\n",
      "1563/1563 [==============================] - 31s 20ms/step - loss: 1.0031 - accuracy: 0.6480\n",
      "Epoch 4/10\n",
      "1563/1563 [==============================] - 31s 20ms/step - loss: 0.9117 - accuracy: 0.6831\n",
      "Epoch 5/10\n",
      "1563/1563 [==============================] - 28s 18ms/step - loss: 0.8522 - accuracy: 0.7038\n",
      "Epoch 6/10\n",
      "1563/1563 [==============================] - 29s 19ms/step - loss: 0.7945 - accuracy: 0.7245\n",
      "Epoch 7/10\n",
      "1563/1563 [==============================] - 29s 19ms/step - loss: 0.7468 - accuracy: 0.7398\n",
      "Epoch 8/10\n",
      "1563/1563 [==============================] - 27s 18ms/step - loss: 0.7078 - accuracy: 0.7517\n",
      "Epoch 9/10\n",
      "1563/1563 [==============================] - 30s 19ms/step - loss: 0.6707 - accuracy: 0.7661\n",
      "Epoch 10/10\n",
      "1563/1563 [==============================] - 32s 21ms/step - loss: 0.6364 - accuracy: 0.7800\n"
     ]
    },
    {
     "data": {
      "text/plain": [
       "<keras.src.callbacks.History at 0x7ca5802f56c0>"
      ]
     },
     "execution_count": 49,
     "metadata": {},
     "output_type": "execute_result"
    }
   ],
   "source": [
    "cnn = Sequential([\n",
    "    # cnn\n",
    "    layers.Conv2D(filters=32, activation='relu', kernel_size=(3,3), input_shape=(32,32,3)), # kernel_size is the filter size u are using\n",
    "    layers.MaxPooling2D((2,2)),\n",
    "    layers.Conv2D(filters=64, activation='relu', kernel_size=(3,3)),\n",
    "    layers.MaxPooling2D((2,2)),\n",
    "    # ann // dense layers\n",
    "    layers.Flatten(),\n",
    "    layers.Dense(64, activation='relu'),\n",
    "    layers.Dense(10, activation='softmax')\n",
    "])\n",
    "\n",
    "cnn.compile(optimizer='adam',\n",
    "            loss= 'sparse_categorical_crossentropy',\n",
    "            metrics=['accuracy'])\n",
    "\n",
    "cnn.fit(X_train,y_train, epochs=10)  "
   ]
  },
  {
   "cell_type": "code",
   "execution_count": 50,
   "metadata": {},
   "outputs": [
    {
     "name": "stdout",
     "output_type": "stream",
     "text": [
      "313/313 [==============================] - 5s 14ms/step\n"
     ]
    }
   ],
   "source": [
    "y_pred_cnn = ann.predict(X_test)\n",
    "y_pred_cnn = [np.argmax(element) for element in y_pred_cnn]\n",
    "y_pred_cnn = [[y] for y in y_pred_cnn]"
   ]
  },
  {
   "cell_type": "code",
   "execution_count": 51,
   "metadata": {},
   "outputs": [
    {
     "name": "stdout",
     "output_type": "stream",
     "text": [
      "Classification Report: \n",
      "               precision    recall  f1-score   support\n",
      "\n",
      "           0       0.73      0.24      0.36      1000\n",
      "           1       0.64      0.57      0.60      1000\n",
      "           2       0.35      0.42      0.38      1000\n",
      "           3       0.37      0.23      0.28      1000\n",
      "           4       0.42      0.43      0.42      1000\n",
      "           5       0.37      0.42      0.39      1000\n",
      "           6       0.55      0.49      0.52      1000\n",
      "           7       0.73      0.36      0.48      1000\n",
      "           8       0.43      0.79      0.56      1000\n",
      "           9       0.42      0.67      0.52      1000\n",
      "\n",
      "    accuracy                           0.46     10000\n",
      "   macro avg       0.50      0.46      0.45     10000\n",
      "weighted avg       0.50      0.46      0.45     10000\n",
      "\n"
     ]
    }
   ],
   "source": [
    "print(\"Classification Report: \\n\", classification_report(y_test,y_pred_cnn))"
   ]
  },
  {
   "cell_type": "code",
   "execution_count": 55,
   "metadata": {},
   "outputs": [
    {
     "name": "stdout",
     "output_type": "stream",
     "text": [
      "313/313 [==============================] - 4s 13ms/step - loss: 1.4963 - accuracy: 0.4619\n",
      "ann :  [1.4962915182113647, 0.461899995803833]\n",
      "313/313 [==============================] - 3s 8ms/step - loss: 0.8997 - accuracy: 0.6984\n",
      "cnn :  [0.8996861577033997, 0.6984000205993652]\n"
     ]
    }
   ],
   "source": [
    "print(\"ann : \" , ann.evaluate(X_test, y_test))\n",
    "print(\"cnn : \" , cnn.evaluate(X_test, y_test))"
   ]
  },
  {
   "cell_type": "markdown",
   "metadata": {},
   "source": [
    "## CNN did better than ANN"
   ]
  },
  {
   "cell_type": "markdown",
   "metadata": {},
   "source": [
    "#### Also there is less computation in cnn than ann\n"
   ]
  }
 ],
 "metadata": {
  "kernelspec": {
   "display_name": "Python 3",
   "language": "python",
   "name": "python3"
  },
  "language_info": {
   "codemirror_mode": {
    "name": "ipython",
    "version": 3
   },
   "file_extension": ".py",
   "mimetype": "text/x-python",
   "name": "python",
   "nbconvert_exporter": "python",
   "pygments_lexer": "ipython3",
   "version": "3.10.12"
  }
 },
 "nbformat": 4,
 "nbformat_minor": 2
}
